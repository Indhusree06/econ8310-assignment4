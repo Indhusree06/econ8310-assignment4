{
  "cells": [
    {
      "cell_type": "markdown",
      "id": "8e649671-64ae-4692-a381-33974ffa666a",
      "metadata": {
        "id": "8e649671-64ae-4692-a381-33974ffa666a"
      },
      "source": [
        "# Assignment 4\n",
        "## Econ 8310 - Business Forecasting\n",
        "\n",
        "This assignment will make use of the bayesian statistical models covered in Lessons 10 to 12.\n",
        "\n",
        "A/B Testing is a critical concept in data science, and for many companies one of the most relevant applications of data-driven decision-making. In order to improve product offerings, marketing campaigns, user interfaces, and many other user-facing interactions, scientists and engineers create experiments to determine the efficacy of proposed changes. Users are then randomly assigned to either the treatment or control group, and their behavior is recorded.\n",
        "If the changes that the treatment group is exposed to can be measured to have a benefit in the metric of interest, then those changes are scaled up and rolled out to across all interactions.\n",
        "Below is a short video detailing the A/B Testing process, in case you want to learn a bit more:\n",
        "[https://youtu.be/DUNk4GPZ9bw](https://youtu.be/DUNk4GPZ9bw)\n",
        "\n",
        "For this assignment, you will use an A/B test data set, which was pulled from the Kaggle website (https://www.kaggle.com/datasets/yufengsui/mobile-games-ab-testing). I have added the data from the page into Codio for you. It can be found in the cookie_cats.csv file in the file tree. It can also be found at [https://github.com/dustywhite7/Econ8310/raw/master/AssignmentData/cookie_cats.csv](https://github.com/dustywhite7/Econ8310/raw/master/AssignmentData/cookie_cats.csv)\n",
        "\n",
        "The variables are defined as follows:\n",
        "\n",
        "| Variable Name  | Definition |\n",
        "|----------------|----|\n",
        "| userid         | A unique number that identifies each player  |\n",
        "| version        | Whether the player was put in the control group (gate_30 - a gate at level 30) or the group with the moved gate (gate_40 - a gate at level 40) |\n",
        "| sum_gamerounds | The number of game rounds played by the player during the first 14 days after install.  |\n",
        "| retention1     | Did the player come back and play 1 day after installing?     |\n",
        "| retention7     | Did the player come back and play 7 days after installing?    |               "
      ]
    },
    {
      "cell_type": "markdown",
      "id": "a7d4d9ba-5349-4ae6-833b-8cea780510d2",
      "metadata": {
        "id": "a7d4d9ba-5349-4ae6-833b-8cea780510d2"
      },
      "source": [
        "### The questions\n",
        "\n",
        "You will be asked to answer the following questions in a small quiz on Canvas:\n",
        "1. What was the effect of moving the gate from level 30 to level 40 on 1-day retention rates?\n",
        "2. What was the effect of moving the gate from level 30 to level 40 on 7-day retention rates?\n",
        "3. What was the biggest challenge for you in completing this assignment?\n",
        "\n",
        "You will also be asked to submit a URL to your forked GitHub repository containing your code used to answer these questions."
      ]
    },
    {
      "cell_type": "code",
      "execution_count": 1,
      "id": "bcd35387-b05b-4cb2-9b1f-e1d2c0e43588",
      "metadata": {
        "colab": {
          "base_uri": "https://localhost:8080/",
          "height": 1000,
          "referenced_widgets": [
            "f61014e1c05a4279adcf82845577f23d",
            "2b0a07192f894b98977cf2a86ff775cf",
            "4213e46bb0a34286ab0979cc77d50750",
            "fa63fb255b044fd6aa39630a55df42e9",
            "abe3781a40bb494d864be510123a57c8",
            "cbc5d0e912e34ea4a0c24c7f7d394925",
            "eca33365533b48dfa9b4af74400de1f3",
            "644181c1bce2471195c28c6e519d3dd8"
          ]
        },
        "id": "bcd35387-b05b-4cb2-9b1f-e1d2c0e43588",
        "outputId": "46849155-c8e1-4513-d19d-06d3d71c6295"
      },
      "outputs": [
        {
          "output_type": "stream",
          "name": "stdout",
          "text": [
            "\n",
            "Average Retention Rates by Version:\n",
            "         retention_1  retention_7\n",
            "version                          \n",
            "gate_30     0.448188     0.190201\n",
            "gate_40     0.442283     0.182000\n",
            "\n",
            "Analyzing Retention-1 Retention...\n"
          ]
        },
        {
          "output_type": "display_data",
          "data": {
            "text/plain": [
              "Output()"
            ],
            "application/vnd.jupyter.widget-view+json": {
              "version_major": 2,
              "version_minor": 0,
              "model_id": "f61014e1c05a4279adcf82845577f23d"
            }
          },
          "metadata": {}
        },
        {
          "output_type": "display_data",
          "data": {
            "text/plain": [],
            "text/html": [
              "<pre style=\"white-space:pre;overflow-x:auto;line-height:normal;font-family:Menlo,'DejaVu Sans Mono',consolas,'Courier New',monospace\"></pre>\n"
            ]
          },
          "metadata": {}
        },
        {
          "output_type": "display_data",
          "data": {
            "text/plain": [
              "Output()"
            ],
            "application/vnd.jupyter.widget-view+json": {
              "version_major": 2,
              "version_minor": 0,
              "model_id": "4213e46bb0a34286ab0979cc77d50750"
            }
          },
          "metadata": {}
        },
        {
          "output_type": "display_data",
          "data": {
            "text/plain": [],
            "text/html": [
              "<pre style=\"white-space:pre;overflow-x:auto;line-height:normal;font-family:Menlo,'DejaVu Sans Mono',consolas,'Courier New',monospace\"></pre>\n"
            ]
          },
          "metadata": {}
        },
        {
          "output_type": "display_data",
          "data": {
            "text/plain": [
              "<Figure size 1250x400 with 1 Axes>"
            ],
            "image/png": "[encoded data removed]"
          },
          "metadata": {}
        },
        {
          "output_type": "display_data",
          "data": {
            "text/plain": [
              "<Figure size 1250x400 with 1 Axes>"
            ],
            "image/png": "[encoded data removed]"
          },
          "metadata": {}
        },
        {
          "output_type": "stream",
          "name": "stdout",
          "text": [
            "\n",
            "Retention_1 Retention Analysis Summary:\n",
            "                       mean     sd  hdi_2.5%  hdi_97.5%  mcse_mean  mcse_sd  \\\n",
            "prob_30_retention_1   0.448  0.002     0.444      0.453        0.0      0.0   \n",
            "prob_40_retention_1   0.442  0.002     0.438      0.447        0.0      0.0   \n",
            "retention_difference  0.006  0.003    -0.000      0.012        0.0      0.0   \n",
            "\n",
            "                      ess_bulk  ess_tail  r_hat  \n",
            "prob_30_retention_1    38632.0   28523.0    1.0  \n",
            "prob_40_retention_1    37453.0   30216.0    1.0  \n",
            "retention_difference   39091.0   29970.0    1.0  \n",
            "\n",
            "Probability that Gate_30 is Superior: 96.33%\n",
            "\n",
            "Analyzing Retention-7 Retention...\n"
          ]
        },
        {
          "output_type": "display_data",
          "data": {
            "text/plain": [
              "Output()"
            ],
            "application/vnd.jupyter.widget-view+json": {
              "version_major": 2,
              "version_minor": 0,
              "model_id": "abe3781a40bb494d864be510123a57c8"
            }
          },
          "metadata": {}
        },
        {
          "output_type": "display_data",
          "data": {
            "text/plain": [],
            "text/html": [
              "<pre style=\"white-space:pre;overflow-x:auto;line-height:normal;font-family:Menlo,'DejaVu Sans Mono',consolas,'Courier New',monospace\"></pre>\n"
            ]
          },
          "metadata": {}
        },
        {
          "output_type": "display_data",
          "data": {
            "text/plain": [
              "Output()"
            ],
            "application/vnd.jupyter.widget-view+json": {
              "version_major": 2,
              "version_minor": 0,
              "model_id": "eca33365533b48dfa9b4af74400de1f3"
            }
          },
          "metadata": {}
        },
        {
          "output_type": "display_data",
          "data": {
            "text/plain": [],
            "text/html": [
              "<pre style=\"white-space:pre;overflow-x:auto;line-height:normal;font-family:Menlo,'DejaVu Sans Mono',consolas,'Courier New',monospace\"></pre>\n"
            ]
          },
          "metadata": {}
        },
        {
          "output_type": "display_data",
          "data": {
            "text/plain": [
              "<Figure size 1250x400 with 1 Axes>"
            ],
            "image/png": "[encoded data removed]"
          },
          "metadata": {}
        },
        {
          "output_type": "display_data",
          "data": {
            "text/plain": [
              "<Figure size 1250x400 with 1 Axes>"
            ],
            "image/png": "[encoded data removed]"
          },
          "metadata": {}
        },
        {
          "output_type": "stream",
          "name": "stdout",
          "text": [
            "\n",
            "Retention_7 Retention Analysis Summary:\n",
            "                       mean     sd  hdi_2.5%  hdi_97.5%  mcse_mean  mcse_sd  \\\n",
            "prob_30_retention_7   0.190  0.002     0.187      0.194        0.0      0.0   \n",
            "prob_40_retention_7   0.182  0.002     0.178      0.186        0.0      0.0   \n",
            "retention_difference  0.008  0.003     0.003      0.013        0.0      0.0   \n",
            "\n",
            "                      ess_bulk  ess_tail  r_hat  \n",
            "prob_30_retention_7    37590.0   29175.0    1.0  \n",
            "prob_40_retention_7    37689.0   28909.0    1.0  \n",
            "retention_difference   37504.0   29789.0    1.0  \n",
            "\n",
            "Probability that Gate_30 is Superior: 99.92%\n",
            "\n",
            "Final Results:\n",
            "Retention 1: Gate_30 Superior Probability = 96.33%\n",
            "Retention 7: Gate_30 Superior Probability = 99.92%\n"
          ]
        }
      ],
      "source": [
        "import pandas as pd\n",
        "import pymc as pm\n",
        "import numpy as np\n",
        "import matplotlib.pyplot as plt\n",
        "import arviz as az\n",
        "\n",
        "# URL for the dataset\n",
        "data_url = \"https://raw.githubusercontent.com/dustywhite7/Econ8310/master/AssignmentData/cookie_cats.csv\"\n",
        "\n",
        "# Load the dataset\n",
        "game_data = pd.read_csv(data_url)\n",
        "\n",
        "\n",
        "\n",
        "# Calculate and display retention rates\n",
        "avg_retention = game_data.groupby('version')[['retention_1', 'retention_7']].mean()\n",
        "print(\"\\nAverage Retention Rates by Version:\")\n",
        "print(avg_retention)\n",
        "\n",
        "def perform_bayesian_analysis(retention_metric):\n",
        "    retention_version_30 = game_data[game_data['version'] == 'gate_30'][retention_metric]\n",
        "    retention_version_40 = game_data[game_data['version'] == 'gate_40'][retention_metric]\n",
        "\n",
        "    with pm.Model() as retention_model:\n",
        "        prob_30 = pm.Uniform(f'prob_30_{retention_metric}', lower=0, upper=1)\n",
        "        prob_40 = pm.Uniform(f'prob_40_{retention_metric}', lower=0, upper=1)\n",
        "\n",
        "        obs_30 = pm.Bernoulli(f'obs_30_{retention_metric}', p=prob_30, observed=retention_version_30)\n",
        "        obs_40 = pm.Bernoulli(f'obs_40_{retention_metric}', p=prob_40, observed=retention_version_40)\n",
        "\n",
        "        retention_difference = pm.Deterministic('retention_difference', prob_30 - prob_40)\n",
        "\n",
        "        retention_trace = pm.sample(20000, chains=2)\n",
        "\n",
        "    return retention_trace\n",
        "\n",
        "def visualize_and_summarize_results(trace, retention_metric):\n",
        "    # Visualize posterior distributions for probabilities\n",
        "    plt.figure(figsize=(12.5, 4))\n",
        "\n",
        "    prob_30_samples = np.concatenate(trace.posterior[f'prob_30_{retention_metric}'].data[:, 1000:])\n",
        "    prob_40_samples = np.concatenate(trace.posterior[f'prob_40_{retention_metric}'].data[:, 1000:])\n",
        "\n",
        "    plt.hist(prob_30_samples, bins=40, label='Posterior for Prob_30', density=True, alpha=0.7)\n",
        "    plt.hist(prob_40_samples, bins=40, label='Posterior for Prob_40', density=True, alpha=0.7)\n",
        "    plt.title(f'{retention_metric.capitalize()} Retention Probabilities')\n",
        "    plt.legend()\n",
        "    plt.show()\n",
        "\n",
        "    # Visualize posterior distribution for difference\n",
        "    retention_diff_samples = np.concatenate(trace.posterior['retention_difference'].data[:, 1000:])\n",
        "\n",
        "    plt.figure(figsize=(12.5, 4))\n",
        "    plt.hist(retention_diff_samples, bins=40, label='Posterior for Retention Difference', density=True)\n",
        "    plt.title(f'Difference in {retention_metric.capitalize()} Retention')\n",
        "    plt.axvline(x=0, color='red', linestyle='--')\n",
        "    plt.legend()\n",
        "    plt.show()\n",
        "\n",
        "    # Display summary statistics\n",
        "    print(f\"\\n{retention_metric.capitalize()} Retention Analysis Summary:\")\n",
        "    print(az.summary(trace, hdi_prob=0.95))\n",
        "\n",
        "    # Calculate and display superiority probability\n",
        "    prob_superiority = np.mean(retention_diff_samples > 0)\n",
        "    print(f\"\\nProbability that Gate_30 is Superior: {prob_superiority:.2%}\")\n",
        "\n",
        "    return prob_superiority\n",
        "\n",
        "# Perform analysis for both 1-day and 7-day retention metrics\n",
        "results = {}\n",
        "for metric in ['retention_1', 'retention_7']:\n",
        "    print(f\"\\nAnalyzing {metric.replace('_', '-').capitalize()} Retention...\")\n",
        "    trace = perform_bayesian_analysis(metric)\n",
        "    prob_superiority = visualize_and_summarize_results(trace, metric)\n",
        "    results[metric] = prob_superiority\n",
        "\n",
        "# Print results summary\n",
        "print(\"\\nFinal Results:\")\n",
        "for metric, probability in results.items():\n",
        "    print(f\"{metric.replace('_', ' ').capitalize()}: Gate_30 Superior Probability = {probability:.2%}\")\n"
      ]
    }
  ],
  "metadata": {
    "kernelspec": {
      "display_name": "Python 3 (ipykernel)",
      "language": "python",
      "name": "python3"
    },
    "language_info": {
      "codemirror_mode": {
        "name": "ipython",
        "version": 3
      },
      "file_extension": ".py",
      "mimetype": "text/x-python",
      "name": "python",
      "nbconvert_exporter": "python",
      "pygments_lexer": "ipython3",
      "version": "3.9.13"
    },
    "colab": {
      "provenance": []
    },
    "widgets": {
      "application/vnd.jupyter.widget-state+json": {
        "f61014e1c05a4279adcf82845577f23d": {
          "model_module": "@jupyter-widgets/output",
          "model_name": "OutputModel",
          "model_module_version": "1.0.0",
          "state": {
            "_dom_classes": [],
            "_model_module": "@jupyter-widgets/output",
            "_model_module_version": "1.0.0",
            "_model_name": "OutputModel",
            "_view_count": null,
            "_view_module": "@jupyter-widgets/output",
            "_view_module_version": "1.0.0",
            "_view_name": "OutputView",
            "layout": "IPY_MODEL_2b0a07192f894b98977cf2a86ff775cf",
            "msg_id": "",
            "outputs": [
              {
                "output_type": "display_data",
                "data": {
                  "text/plain": "Sampling chain 0, 0 divergences \u001b[32m━━━━━━━━━━━━━━━━━━━━━━━━━━━━━━━━━━━━━━━━\u001b[0m \u001b[35m100%\u001b[0m \u001b[36m0:00:00\u001b[0m / \u001b[33m0:01:49\u001b[0m\n",
                  "text/html": "<pre style=\"white-space:pre;overflow-x:auto;line-height:normal;font-family:Menlo,'DejaVu Sans Mono',consolas,'Courier New',monospace\">Sampling chain 0, 0 divergences <span style=\"color: #008000; text-decoration-color: #008000\">━━━━━━━━━━━━━━━━━━━━━━━━━━━━━━━━━━━━━━━━</span> <span style=\"color: #800080; text-decoration-color: #800080\">100%</span> <span style=\"color: #008080; text-decoration-color: #008080\">0:00:00</span> / <span style=\"color: #808000; text-decoration-color: #808000\">0:01:49</span>\n</pre>\n"
                },
                "metadata": {}
              }
            ]
          }
        },
        "2b0a07192f894b98977cf2a86ff775cf": {
          "model_module": "@jupyter-widgets/base",
          "model_name": "LayoutModel",
          "model_module_version": "1.2.0",
          "state": {
            "_model_module": "@jupyter-widgets/base",
            "_model_module_version": "1.2.0",
            "_model_name": "LayoutModel",
            "_view_count": null,
            "_view_module": "@jupyter-widgets/base",
            "_view_module_version": "1.2.0",
            "_view_name": "LayoutView",
            "align_content": null,
            "align_items": null,
            "align_self": null,
            "border": null,
            "bottom": null,
            "display": null,
            "flex": null,
            "flex_flow": null,
            "grid_area": null,
            "grid_auto_columns": null,
            "grid_auto_flow": null,
            "grid_auto_rows": null,
            "grid_column": null,
            "grid_gap": null,
            "grid_row": null,
            "grid_template_areas": null,
            "grid_template_columns": null,
            "grid_template_rows": null,
            "height": null,
            "justify_content": null,
            "justify_items": null,
            "left": null,
            "margin": null,
            "max_height": null,
            "max_width": null,
            "min_height": null,
            "min_width": null,
            "object_fit": null,
            "object_position": null,
            "order": null,
            "overflow": null,
            "overflow_x": null,
            "overflow_y": null,
            "padding": null,
            "right": null,
            "top": null,
            "visibility": null,
            "width": null
          }
        },
        "4213e46bb0a34286ab0979cc77d50750": {
          "model_module": "@jupyter-widgets/output",
          "model_name": "OutputModel",
          "model_module_version": "1.0.0",
          "state": {
            "_dom_classes": [],
            "_model_module": "@jupyter-widgets/output",
            "_model_module_version": "1.0.0",
            "_model_name": "OutputModel",
            "_view_count": null,
            "_view_module": "@jupyter-widgets/output",
            "_view_module_version": "1.0.0",
            "_view_name": "OutputView",
            "layout": "IPY_MODEL_fa63fb255b044fd6aa39630a55df42e9",
            "msg_id": "",
            "outputs": [
              {
                "output_type": "display_data",
                "data": {
                  "text/plain": "Sampling chain 1, 0 divergences \u001b[32m━━━━━━━━━━━━━━━━━━━━━━━━━━━━━━━━━━━━━━━━\u001b[0m \u001b[35m100%\u001b[0m \u001b[36m0:00:00\u001b[0m / \u001b[33m0:01:46\u001b[0m\n",
                  "text/html": "<pre style=\"white-space:pre;overflow-x:auto;line-height:normal;font-family:Menlo,'DejaVu Sans Mono',consolas,'Courier New',monospace\">Sampling chain 1, 0 divergences <span style=\"color: #008000; text-decoration-color: #008000\">━━━━━━━━━━━━━━━━━━━━━━━━━━━━━━━━━━━━━━━━</span> <span style=\"color: #800080; text-decoration-color: #800080\">100%</span> <span style=\"color: #008080; text-decoration-color: #008080\">0:00:00</span> / <span style=\"color: #808000; text-decoration-color: #808000\">0:01:46</span>\n</pre>\n"
                },
                "metadata": {}
              }
            ]
          }
        },
        "fa63fb255b044fd6aa39630a55df42e9": {
          "model_module": "@jupyter-widgets/base",
          "model_name": "LayoutModel",
          "model_module_version": "1.2.0",
          "state": {
            "_model_module": "@jupyter-widgets/base",
            "_model_module_version": "1.2.0",
            "_model_name": "LayoutModel",
            "_view_count": null,
            "_view_module": "@jupyter-widgets/base",
            "_view_module_version": "1.2.0",
            "_view_name": "LayoutView",
            "align_content": null,
            "align_items": null,
            "align_self": null,
            "border": null,
            "bottom": null,
            "display": null,
            "flex": null,
            "flex_flow": null,
            "grid_area": null,
            "grid_auto_columns": null,
            "grid_auto_flow": null,
            "grid_auto_rows": null,
            "grid_column": null,
            "grid_gap": null,
            "grid_row": null,
            "grid_template_areas": null,
            "grid_template_columns": null,
            "grid_template_rows": null,
            "height": null,
            "justify_content": null,
            "justify_items": null,
            "left": null,
            "margin": null,
            "max_height": null,
            "max_width": null,
            "min_height": null,
            "min_width": null,
            "object_fit": null,
            "object_position": null,
            "order": null,
            "overflow": null,
            "overflow_x": null,
            "overflow_y": null,
            "padding": null,
            "right": null,
            "top": null,
            "visibility": null,
            "width": null
          }
        },
        "abe3781a40bb494d864be510123a57c8": {
          "model_module": "@jupyter-widgets/output",
          "model_name": "OutputModel",
          "model_module_version": "1.0.0",
          "state": {
            "_dom_classes": [],
            "_model_module": "@jupyter-widgets/output",
            "_model_module_version": "1.0.0",
            "_model_name": "OutputModel",
            "_view_count": null,
            "_view_module": "@jupyter-widgets/output",
            "_view_module_version": "1.0.0",
            "_view_name": "OutputView",
            "layout": "IPY_MODEL_cbc5d0e912e34ea4a0c24c7f7d394925",
            "msg_id": "",
            "outputs": [
              {
                "output_type": "display_data",
                "data": {
                  "text/plain": "Sampling chain 0, 0 divergences \u001b[32m━━━━━━━━━━━━━━━━━━━━━━━━━━━━━━━━━━━━━━━━\u001b[0m \u001b[35m100%\u001b[0m \u001b[36m0:00:00\u001b[0m / \u001b[33m0:01:25\u001b[0m\n",
                  "text/html": "<pre style=\"white-space:pre;overflow-x:auto;line-height:normal;font-family:Menlo,'DejaVu Sans Mono',consolas,'Courier New',monospace\">Sampling chain 0, 0 divergences <span style=\"color: #008000; text-decoration-color: #008000\">━━━━━━━━━━━━━━━━━━━━━━━━━━━━━━━━━━━━━━━━</span> <span style=\"color: #800080; text-decoration-color: #800080\">100%</span> <span style=\"color: #008080; text-decoration-color: #008080\">0:00:00</span> / <span style=\"color: #808000; text-decoration-color: #808000\">0:01:25</span>\n</pre>\n"
                },
                "metadata": {}
              }
            ]
          }
        },
        "cbc5d0e912e34ea4a0c24c7f7d394925": {
          "model_module": "@jupyter-widgets/base",
          "model_name": "LayoutModel",
          "model_module_version": "1.2.0",
          "state": {
            "_model_module": "@jupyter-widgets/base",
            "_model_module_version": "1.2.0",
            "_model_name": "LayoutModel",
            "_view_count": null,
            "_view_module": "@jupyter-widgets/base",
            "_view_module_version": "1.2.0",
            "_view_name": "LayoutView",
            "align_content": null,
            "align_items": null,
            "align_self": null,
            "border": null,
            "bottom": null,
            "display": null,
            "flex": null,
            "flex_flow": null,
            "grid_area": null,
            "grid_auto_columns": null,
            "grid_auto_flow": null,
            "grid_auto_rows": null,
            "grid_column": null,
            "grid_gap": null,
            "grid_row": null,
            "grid_template_areas": null,
            "grid_template_columns": null,
            "grid_template_rows": null,
            "height": null,
            "justify_content": null,
            "justify_items": null,
            "left": null,
            "margin": null,
            "max_height": null,
            "max_width": null,
            "min_height": null,
            "min_width": null,
            "object_fit": null,
            "object_position": null,
            "order": null,
            "overflow": null,
            "overflow_x": null,
            "overflow_y": null,
            "padding": null,
            "right": null,
            "top": null,
            "visibility": null,
            "width": null
          }
        },
        "eca33365533b48dfa9b4af74400de1f3": {
          "model_module": "@jupyter-widgets/output",
          "model_name": "OutputModel",
          "model_module_version": "1.0.0",
          "state": {
            "_dom_classes": [],
            "_model_module": "@jupyter-widgets/output",
            "_model_module_version": "1.0.0",
            "_model_name": "OutputModel",
            "_view_count": null,
            "_view_module": "@jupyter-widgets/output",
            "_view_module_version": "1.0.0",
            "_view_name": "OutputView",
            "layout": "IPY_MODEL_644181c1bce2471195c28c6e519d3dd8",
            "msg_id": "",
            "outputs": [
              {
                "output_type": "display_data",
                "data": {
                  "text/plain": "Sampling chain 1, 0 divergences \u001b[32m━━━━━━━━━━━━━━━━━━━━━━━━━━━━━━━━━━━━━━━━\u001b[0m \u001b[35m100%\u001b[0m \u001b[36m0:00:00\u001b[0m / \u001b[33m0:01:24\u001b[0m\n",
                  "text/html": "<pre style=\"white-space:pre;overflow-x:auto;line-height:normal;font-family:Menlo,'DejaVu Sans Mono',consolas,'Courier New',monospace\">Sampling chain 1, 0 divergences <span style=\"color: #008000; text-decoration-color: #008000\">━━━━━━━━━━━━━━━━━━━━━━━━━━━━━━━━━━━━━━━━</span> <span style=\"color: #800080; text-decoration-color: #800080\">100%</span> <span style=\"color: #008080; text-decoration-color: #008080\">0:00:00</span> / <span style=\"color: #808000; text-decoration-color: #808000\">0:01:24</span>\n</pre>\n"
                },
                "metadata": {}
              }
            ]
          }
        },
        "644181c1bce2471195c28c6e519d3dd8": {
          "model_module": "@jupyter-widgets/base",
          "model_name": "LayoutModel",
          "model_module_version": "1.2.0",
          "state": {
            "_model_module": "@jupyter-widgets/base",
            "_model_module_version": "1.2.0",
            "_model_name": "LayoutModel",
            "_view_count": null,
            "_view_module": "@jupyter-widgets/base",
            "_view_module_version": "1.2.0",
            "_view_name": "LayoutView",
            "align_content": null,
            "align_items": null,
            "align_self": null,
            "border": null,
            "bottom": null,
            "display": null,
            "flex": null,
            "flex_flow": null,
            "grid_area": null,
            "grid_auto_columns": null,
            "grid_auto_flow": null,
            "grid_auto_rows": null,
            "grid_column": null,
            "grid_gap": null,
            "grid_row": null,
            "grid_template_areas": null,
            "grid_template_columns": null,
            "grid_template_rows": null,
            "height": null,
            "justify_content": null,
            "justify_items": null,
            "left": null,
            "margin": null,
            "max_height": null,
            "max_width": null,
            "min_height": null,
            "min_width": null,
            "object_fit": null,
            "object_position": null,
            "order": null,
            "overflow": null,
            "overflow_x": null,
            "overflow_y": null,
            "padding": null,
            "right": null,
            "top": null,
            "visibility": null,
            "width": null
          }
        }
      }
    }
  },
  "nbformat": 4,
  "nbformat_minor": 5
}